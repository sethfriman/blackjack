{
 "cells": [
  {
   "cell_type": "code",
   "execution_count": 1,
   "metadata": {},
   "outputs": [],
   "source": [
    "import pandas as pd\n",
    "import numpy as np\n",
    "import matplotlib.pyplot as plt\n",
    "%matplotlib inline"
   ]
  },
  {
   "cell_type": "code",
   "execution_count": 2,
   "metadata": {},
   "outputs": [],
   "source": [
    "#RULES\n",
    "#Runs automated hands of blackjack using either an expert's strategy or our own\n",
    "#Dealer hits on 16 and below, and a soft 17. Dealer stands on a hard 17 and up\n",
    "#There is no splitting or doubling down in this implementation as we are comparing win chances\n",
    "#using different strategies on hand values"
   ]
  },
  {
   "cell_type": "code",
   "execution_count": 3,
   "metadata": {},
   "outputs": [],
   "source": [
    "#deals a single card\n",
    "def dealCard():\n",
    "    num = int(13 * np.random.rand() + 1)\n",
    "    if num >= 10 :\n",
    "        return 10\n",
    "    elif num == 1 :\n",
    "        return 11\n",
    "    else :\n",
    "        return num"
   ]
  },
  {
   "cell_type": "code",
   "execution_count": 4,
   "metadata": {},
   "outputs": [
    {
     "data": {
      "text/plain": [
       "10"
      ]
     },
     "execution_count": 4,
     "metadata": {},
     "output_type": "execute_result"
    }
   ],
   "source": [
    "dealCard()"
   ]
  },
  {
   "cell_type": "code",
   "execution_count": 5,
   "metadata": {},
   "outputs": [],
   "source": [
    "#finds the total value of a hand\n",
    "def handTotal(hand) :\n",
    "    total = 0\n",
    "    for num in hand :\n",
    "        total += num\n",
    "    return total"
   ]
  },
  {
   "cell_type": "code",
   "execution_count": 6,
   "metadata": {},
   "outputs": [],
   "source": [
    "#determines if a player's hand busted\n",
    "def didBust(hand) :\n",
    "    return handTotal(hand) > 21"
   ]
  },
  {
   "cell_type": "code",
   "execution_count": 7,
   "metadata": {},
   "outputs": [],
   "source": [
    "#changes the values of an ace if it causes the hand to bust\n",
    "def changeAce(hand) :\n",
    "    if didBust(hand) :\n",
    "        for i, num in enumerate(hand) :\n",
    "            if didBust(hand) :\n",
    "                if hand[i] == 11 :\n",
    "                    hand[i] = 1\n",
    "    return hand"
   ]
  },
  {
   "cell_type": "code",
   "execution_count": 8,
   "metadata": {},
   "outputs": [],
   "source": [
    "#deals a player's hand\n",
    "def dealPlayer():\n",
    "    hand = []\n",
    "    hand.append(dealCard())\n",
    "    hand.append(dealCard())\n",
    "    hand = changeAce(hand)\n",
    "    return hand"
   ]
  },
  {
   "cell_type": "code",
   "execution_count": 9,
   "metadata": {},
   "outputs": [
    {
     "data": {
      "text/plain": [
       "[11, 4]"
      ]
     },
     "execution_count": 9,
     "metadata": {},
     "output_type": "execute_result"
    }
   ],
   "source": [
    "dealPlayer()"
   ]
  },
  {
   "cell_type": "code",
   "execution_count": 10,
   "metadata": {},
   "outputs": [
    {
     "data": {
      "text/plain": [
       "15"
      ]
     },
     "execution_count": 10,
     "metadata": {},
     "output_type": "execute_result"
    }
   ],
   "source": [
    "hand = dealPlayer()\n",
    "handTotal(hand)"
   ]
  },
  {
   "cell_type": "code",
   "execution_count": 11,
   "metadata": {},
   "outputs": [
    {
     "data": {
      "text/plain": [
       "[5, 10]"
      ]
     },
     "execution_count": 11,
     "metadata": {},
     "output_type": "execute_result"
    }
   ],
   "source": [
    "hand"
   ]
  },
  {
   "cell_type": "code",
   "execution_count": 12,
   "metadata": {},
   "outputs": [],
   "source": [
    "#deals a card to a pre-existing hand\n",
    "def dealOneCard(hand) :\n",
    "    hand.append(dealCard())\n",
    "    hand = changeAce(hand)\n",
    "    return hand"
   ]
  },
  {
   "cell_type": "code",
   "execution_count": 13,
   "metadata": {},
   "outputs": [
    {
     "data": {
      "text/plain": [
       "[9, 10, 6]"
      ]
     },
     "execution_count": 13,
     "metadata": {},
     "output_type": "execute_result"
    }
   ],
   "source": [
    "dealOneCard(dealPlayer())"
   ]
  },
  {
   "cell_type": "code",
   "execution_count": 14,
   "metadata": {},
   "outputs": [
    {
     "data": {
      "text/plain": [
       "True"
      ]
     },
     "execution_count": 14,
     "metadata": {},
     "output_type": "execute_result"
    }
   ],
   "source": [
    "hand2 = dealOneCard(dealPlayer())\n",
    "didBust(hand2)"
   ]
  },
  {
   "cell_type": "code",
   "execution_count": 15,
   "metadata": {},
   "outputs": [
    {
     "data": {
      "text/plain": [
       "[10, 10, 4]"
      ]
     },
     "execution_count": 15,
     "metadata": {},
     "output_type": "execute_result"
    }
   ],
   "source": [
    "hand2"
   ]
  },
  {
   "cell_type": "code",
   "execution_count": 16,
   "metadata": {},
   "outputs": [
    {
     "data": {
      "text/plain": [
       "[3, 6, 7]"
      ]
     },
     "execution_count": 16,
     "metadata": {},
     "output_type": "execute_result"
    }
   ],
   "source": [
    "ogHand = dealOneCard(dealPlayer())\n",
    "ogHandCopy = []\n",
    "for num in ogHand :\n",
    "    ogHandCopy.append(num)\n",
    "changeAce(ogHand)"
   ]
  },
  {
   "cell_type": "code",
   "execution_count": 17,
   "metadata": {},
   "outputs": [
    {
     "data": {
      "text/plain": [
       "[3, 6, 7]"
      ]
     },
     "execution_count": 17,
     "metadata": {},
     "output_type": "execute_result"
    }
   ],
   "source": [
    "ogHandCopy"
   ]
  },
  {
   "cell_type": "code",
   "execution_count": 18,
   "metadata": {},
   "outputs": [],
   "source": [
    "#run's a dealer's hand\n",
    "def playDealer(dealerHand) :\n",
    "    while (handTotal(dealerHand) < 17) | ((handTotal(dealerHand) == 17) & hasAce11(dealerHand)) :\n",
    "        dealerHand = dealOneCard(dealerHand)\n",
    "    return dealerHand"
   ]
  },
  {
   "cell_type": "code",
   "execution_count": 56,
   "metadata": {},
   "outputs": [],
   "source": [
    "#starts and runs a game n times using the given player strategy\n",
    "def startGame(n, playerStrat) :\n",
    "    results_df = pd.DataFrame(columns = ['PlayerHand', 'DealerHand', 'Winner', 'Result', 'Doubled'])\n",
    "    for i in range(n) :\n",
    "        winner = ''\n",
    "        result = 0\n",
    "        player = dealPlayer()\n",
    "        dealer = dealPlayer()\n",
    "        doubleDown = 1\n",
    "        if handTotal(player) != 21 :\n",
    "            if handTotal(dealer) == 21 :\n",
    "                winner = \"Dealer\"\n",
    "                result = -1\n",
    "            else :\n",
    "                if playerStrat == 'Ours' :\n",
    "                    player, doubleDown = runHandOurs(player, dealer)\n",
    "                elif playerStrat == 'Expert' :\n",
    "                    player, doubleDown = runHandExpert(player, dealer)\n",
    "                elif playerStrat == 'Builder' :\n",
    "                    player, doubleDown = runHandBuildStrat(player, dealer)\n",
    "                else :\n",
    "                    player, doubleDown = runHandOurs(player, dealer)\n",
    "                if didBust(player) == False :\n",
    "                    dealer = playDealer(dealer)\n",
    "                    if didBust(dealer) | (handTotal(player) > handTotal(dealer)) :\n",
    "                        winner = 'Player'\n",
    "                        result = 1 * doubleDown\n",
    "                    elif handTotal(player) == handTotal(dealer) :\n",
    "                        winner = 'Push'\n",
    "                        result = 0\n",
    "                    else :\n",
    "                        winner = \"Dealer\"\n",
    "                        result = -1 * doubleDown\n",
    "                else :\n",
    "                    winner = 'Dealer'\n",
    "                    result = -1 * doubleDown\n",
    "        else :\n",
    "            winner = 'Player'\n",
    "            result = 1.5\n",
    "        results_df = results_df.append({'PlayerHand' : player, 'DealerHand' : dealer, 'Winner' : winner, 'Result' : result, 'Doubled' : doubleDown != 1}, \n",
    "                                       ignore_index = True)\n",
    "    return results_df"
   ]
  },
  {
   "cell_type": "code",
   "execution_count": 57,
   "metadata": {},
   "outputs": [
    {
     "data": {
      "text/plain": [
       "2"
      ]
     },
     "execution_count": 57,
     "metadata": {},
     "output_type": "execute_result"
    }
   ],
   "source": [
    "len([0, 5])"
   ]
  },
  {
   "cell_type": "code",
   "execution_count": 58,
   "metadata": {},
   "outputs": [
    {
     "data": {
      "text/plain": [
       "False"
      ]
     },
     "execution_count": 58,
     "metadata": {},
     "output_type": "execute_result"
    }
   ],
   "source": [
    "7 in range(5, 7)"
   ]
  },
  {
   "cell_type": "code",
   "execution_count": 59,
   "metadata": {},
   "outputs": [],
   "source": [
    "def runHandExpert(player, dealer) :\n",
    "    dealerShows = dealer[0]\n",
    "    stand = False\n",
    "    double = 1\n",
    "    while (didBust(player) == False) & (stand == False) :\n",
    "        curTotal = handTotal(player)\n",
    "        if curTotal <= 11 :\n",
    "            if len(player) == 2 :\n",
    "                if dealerShows in range(3, 7) :\n",
    "                    double = 2\n",
    "                    player = dealOneCard(player)\n",
    "                    return player, double\n",
    "                elif dealerShows in range(2, 10) :\n",
    "                    if curTotal in range(10, 12) :\n",
    "                        double = 2\n",
    "                        player = dealOneCard(player)\n",
    "                        return player, double\n",
    "                elif dealerShows == 10 :\n",
    "                    if curTotal == 11 :\n",
    "                        double = 2\n",
    "                        player = dealOneCard(player)\n",
    "                        return player, double\n",
    "            player = dealOneCard(player)\n",
    "        elif curTotal == 12 :\n",
    "            if hasAce11(player) :\n",
    "                player = dealOneCard(player)\n",
    "            else :\n",
    "                if dealerShows in range(4, 7) :\n",
    "                    stand = True\n",
    "                else :\n",
    "                    player = dealOneCard(player)\n",
    "        elif curTotal in range(13, 17) :\n",
    "            if hasAce11(player) :\n",
    "                if len(player) == 2 :\n",
    "                    if dealerShows in range(5, 7) :\n",
    "                        double = 2\n",
    "                        player = dealOneCard(player)\n",
    "                        return player, double\n",
    "                    elif dealerShows == 4 :\n",
    "                        if curTotal in range(15, 17) :\n",
    "                            double = 2\n",
    "                            player = dealOneCard(player)\n",
    "                            return player, double\n",
    "                player = dealOneCard(player)\n",
    "            else :\n",
    "                if dealerShows in range(2, 7) :\n",
    "                    stand = True\n",
    "                else :\n",
    "                    player = dealOneCard(player)\n",
    "        elif curTotal == 17 :\n",
    "            if hasAce11(player) :\n",
    "                if len(player) == 2 & dealerShows in range(3, 7) :\n",
    "                    double = 2\n",
    "                    player = dealOneCard(player)\n",
    "                    return player, double\n",
    "                player = dealOneCard(player)\n",
    "            else :\n",
    "                stand = True\n",
    "        elif curTotal == 18 :\n",
    "            if hasAce11(player) :\n",
    "                if dealerShows in range(9, 12) :\n",
    "                    player = dealOneCard(player)\n",
    "                else :\n",
    "                    if len(player) == 2 & dealerShows in range(3, 7) :\n",
    "                        double = 2\n",
    "                        player = dealOneCard(player)\n",
    "                        return player, double\n",
    "                    stand = True\n",
    "            else :\n",
    "                stand = True\n",
    "        else :\n",
    "            stand = True\n",
    "    return player, double"
   ]
  },
  {
   "cell_type": "code",
   "execution_count": 202,
   "metadata": {},
   "outputs": [],
   "source": [
    "def runHandOurs(player, dealer) :\n",
    "    dealerShows = dealer[0]\n",
    "    stand = False\n",
    "    double = 1\n",
    "    while (didBust(player) == False) & (stand == False) :\n",
    "        curTotal = handTotal(player)\n",
    "        if curTotal <= 11 :\n",
    "            player = dealOneCard(player)\n",
    "        elif curTotal == 12 :\n",
    "            if hasAce11(player) :\n",
    "                player = dealOneCard(player)\n",
    "            else :\n",
    "                if dealerShows in [2, 3] :\n",
    "                    stand = True\n",
    "                else :\n",
    "                    player = dealOneCard(player)\n",
    "        elif curTotal in range(13, 16) :\n",
    "            if hasAce11(player) :\n",
    "                player = dealOneCard(player)\n",
    "            else :\n",
    "                if dealerShows in range((curTotal - 10), 8) :\n",
    "                    stand = True\n",
    "                else :\n",
    "                    player = dealOneCard(player)\n",
    "        elif curTotal == 16 :\n",
    "            if hasAce11(player) :\n",
    "                player = dealOneCard(player)\n",
    "            else :\n",
    "                if dealerShows in range(2, 10) :\n",
    "                    stand = True\n",
    "                else :\n",
    "                    player = dealOneCard(player)\n",
    "        else :\n",
    "            stand = True\n",
    "    return player, double"
   ]
  },
  {
   "cell_type": "code",
   "execution_count": 220,
   "metadata": {},
   "outputs": [],
   "source": [
    "def runHandBuildStrat(player, dealer) :\n",
    "    dealerShows = dealer[0]\n",
    "    stand = False\n",
    "    double = 1\n",
    "    while (didBust(player) == False) & (stand == False) :\n",
    "        curTotal = handTotal(player)\n",
    "        if curTotal == 8 :\n",
    "            player = dealOneCard(player)\n",
    "        elif curTotal == 9 :\n",
    "            if len(player) == 2 & dealerShows in range(3, 6) :\n",
    "                double = 2\n",
    "                player = dealOneCard(player)\n",
    "                return player, double\n",
    "            player = dealOneCard(player)\n",
    "        elif curTotal in [10, 11] :\n",
    "            if (len(player) == 2) & (dealerShows != 10) :\n",
    "                double = 2\n",
    "                player = dealOneCard(player)\n",
    "                return player, double\n",
    "            player = dealOneCard(player)\n",
    "        elif curTotal == 12 :\n",
    "            if hasAce11(player) :\n",
    "                if dealerShows == 6 :\n",
    "                    if len(player) == 2 :\n",
    "                        double = 2\n",
    "                        player = dealOneCard(player)\n",
    "                        return player, double\n",
    "                player = dealOneCard(player)\n",
    "            else :\n",
    "                if dealerShows in range(4, 7):\n",
    "                    stand = True\n",
    "                else :\n",
    "                    player = dealOneCard(player)\n",
    "        elif curTotal == 13 :\n",
    "            if hasAce11(player) :\n",
    "                if dealerShows == 6 :\n",
    "                    if len(player) == 2 :\n",
    "                        double = 2\n",
    "                        player = dealOneCard(player)\n",
    "                        return player, double\n",
    "                player = dealOneCard(player)\n",
    "            else :\n",
    "                if dealerShows in range(2, 7):\n",
    "                    stand = True\n",
    "                else :\n",
    "                    player = dealOneCard(player)\n",
    "        elif curTotal == 14 :\n",
    "            if hasAce11(player) :\n",
    "                if dealerShows in [5, 6] :\n",
    "                    if len(player) == 2 :\n",
    "                        double = 2\n",
    "                        player = dealOneCard(player)\n",
    "                        return player, double\n",
    "                player = dealOneCard(player)\n",
    "            else :\n",
    "                if (dealerShows in range(2, 7)) | (dealerShows == 11) :\n",
    "                    stand = True\n",
    "                else :\n",
    "                    player = dealOneCard(player)\n",
    "        elif curTotal == 15 :\n",
    "            if hasAce11(player) :\n",
    "                if dealerShows in [4, 5, 6] :\n",
    "                    if len(player) == 2 :\n",
    "                        double = 2\n",
    "                        player = dealOneCard(player)\n",
    "                        return player, double\n",
    "                player = dealOneCard(player)\n",
    "            else :\n",
    "                if (dealerShows in range(2, 7)) | (dealerShows == 11) :\n",
    "                    stand = True\n",
    "                else :\n",
    "                    player = dealOneCard(player)\n",
    "        elif curTotal == 16 :\n",
    "            if hasAce11(player) :\n",
    "                if dealerShows in [4, 5, 6] :\n",
    "                    if len(player) == 2 :\n",
    "                        double = 2\n",
    "                        player = dealOneCard(player)\n",
    "                        return player, double\n",
    "                player = dealOneCard(player)\n",
    "            else :\n",
    "                if (dealerShows in range(2, 7)) | (dealerShows in range(10, 12)) :\n",
    "                    stand = True\n",
    "                else :\n",
    "                    player = dealOneCard(player)\n",
    "        elif curTotal == 17 :\n",
    "            if hasAce11(player) :\n",
    "                if dealerShows in [3, 4, 5, 6] :\n",
    "                    if len(player) == 2 :\n",
    "                        double = 2\n",
    "                        player = dealOneCard(player)\n",
    "                        return player, double\n",
    "                player = dealOneCard(player)\n",
    "            else :\n",
    "                stand = True\n",
    "        elif curTotal == 18 :\n",
    "            if hasAce11(player) :\n",
    "                if dealerShows in [3, 4, 5, 6] :\n",
    "                    if len(player) == 2 :\n",
    "                        double = 2\n",
    "                        player = dealOneCard(player)\n",
    "                        return player, double\n",
    "                if dealerShows in range(2, 9):\n",
    "                    stand = True\n",
    "                else :\n",
    "                    player = dealOneCard(player)\n",
    "            else :\n",
    "                stand = True\n",
    "        elif curTotal >= 19 :\n",
    "            stand = True\n",
    "        else :\n",
    "            stand = True\n",
    "    return player, double"
   ]
  },
  {
   "cell_type": "code",
   "execution_count": 23,
   "metadata": {},
   "outputs": [],
   "source": [
    "def hasAce11(hand) :\n",
    "    for num in hand :\n",
    "        if num == 11 :\n",
    "            return True\n",
    "    return False"
   ]
  },
  {
   "cell_type": "code",
   "execution_count": 50,
   "metadata": {},
   "outputs": [
    {
     "data": {
      "text/plain": [
       "2"
      ]
     },
     "execution_count": 50,
     "metadata": {},
     "output_type": "execute_result"
    }
   ],
   "source": [
    "player, double = runHandExpert([5, 6], [6, 10])\n",
    "double"
   ]
  },
  {
   "cell_type": "code",
   "execution_count": 224,
   "metadata": {},
   "outputs": [
    {
     "data": {
      "text/plain": [
       "Dealer    0.49\n",
       "Player    0.42\n",
       "Push      0.09\n",
       "Name: Winner, dtype: float64"
      ]
     },
     "execution_count": 224,
     "metadata": {},
     "output_type": "execute_result"
    }
   ],
   "source": [
    "results = startGame(100, 'Expert')\n",
    "#results['Result'].sum() --- returns the total\n",
    "results.Winner.value_counts(normalize=True)"
   ]
  },
  {
   "cell_type": "code",
   "execution_count": 225,
   "metadata": {},
   "outputs": [
    {
     "data": {
      "text/plain": [
       "-0.5"
      ]
     },
     "execution_count": 225,
     "metadata": {},
     "output_type": "execute_result"
    }
   ],
   "source": [
    "results.Result.sum()"
   ]
  },
  {
   "cell_type": "code",
   "execution_count": 226,
   "metadata": {},
   "outputs": [
    {
     "data": {
      "text/html": [
       "<div>\n",
       "<style scoped>\n",
       "    .dataframe tbody tr th:only-of-type {\n",
       "        vertical-align: middle;\n",
       "    }\n",
       "\n",
       "    .dataframe tbody tr th {\n",
       "        vertical-align: top;\n",
       "    }\n",
       "\n",
       "    .dataframe thead th {\n",
       "        text-align: right;\n",
       "    }\n",
       "</style>\n",
       "<table border=\"1\" class=\"dataframe\">\n",
       "  <thead>\n",
       "    <tr style=\"text-align: right;\">\n",
       "      <th></th>\n",
       "      <th>PlayerHand</th>\n",
       "      <th>DealerHand</th>\n",
       "      <th>Winner</th>\n",
       "      <th>Result</th>\n",
       "      <th>Doubled</th>\n",
       "    </tr>\n",
       "  </thead>\n",
       "  <tbody>\n",
       "    <tr>\n",
       "      <th>0</th>\n",
       "      <td>[8, 10]</td>\n",
       "      <td>[10, 6, 10]</td>\n",
       "      <td>Player</td>\n",
       "      <td>1</td>\n",
       "      <td>False</td>\n",
       "    </tr>\n",
       "    <tr>\n",
       "      <th>1</th>\n",
       "      <td>[5, 10, 4]</td>\n",
       "      <td>[10, 6, 5]</td>\n",
       "      <td>Dealer</td>\n",
       "      <td>-1</td>\n",
       "      <td>False</td>\n",
       "    </tr>\n",
       "    <tr>\n",
       "      <th>2</th>\n",
       "      <td>[9, 3, 8]</td>\n",
       "      <td>[1, 2, 10, 6]</td>\n",
       "      <td>Player</td>\n",
       "      <td>1</td>\n",
       "      <td>False</td>\n",
       "    </tr>\n",
       "    <tr>\n",
       "      <th>3</th>\n",
       "      <td>[10, 11]</td>\n",
       "      <td>[3, 4]</td>\n",
       "      <td>Player</td>\n",
       "      <td>1.5</td>\n",
       "      <td>False</td>\n",
       "    </tr>\n",
       "    <tr>\n",
       "      <th>4</th>\n",
       "      <td>[9, 6]</td>\n",
       "      <td>[5, 2, 10]</td>\n",
       "      <td>Dealer</td>\n",
       "      <td>-1</td>\n",
       "      <td>False</td>\n",
       "    </tr>\n",
       "    <tr>\n",
       "      <th>5</th>\n",
       "      <td>[10, 11]</td>\n",
       "      <td>[4, 10]</td>\n",
       "      <td>Player</td>\n",
       "      <td>1.5</td>\n",
       "      <td>False</td>\n",
       "    </tr>\n",
       "    <tr>\n",
       "      <th>6</th>\n",
       "      <td>[8, 10]</td>\n",
       "      <td>[4, 3, 8, 10]</td>\n",
       "      <td>Player</td>\n",
       "      <td>1</td>\n",
       "      <td>False</td>\n",
       "    </tr>\n",
       "    <tr>\n",
       "      <th>7</th>\n",
       "      <td>[10, 10]</td>\n",
       "      <td>[10, 10]</td>\n",
       "      <td>Push</td>\n",
       "      <td>0</td>\n",
       "      <td>False</td>\n",
       "    </tr>\n",
       "    <tr>\n",
       "      <th>8</th>\n",
       "      <td>[8, 10]</td>\n",
       "      <td>[1, 3, 10, 2, 3]</td>\n",
       "      <td>Dealer</td>\n",
       "      <td>-1</td>\n",
       "      <td>False</td>\n",
       "    </tr>\n",
       "    <tr>\n",
       "      <th>9</th>\n",
       "      <td>[9, 10]</td>\n",
       "      <td>[10, 2, 9]</td>\n",
       "      <td>Dealer</td>\n",
       "      <td>-1</td>\n",
       "      <td>False</td>\n",
       "    </tr>\n",
       "  </tbody>\n",
       "</table>\n",
       "</div>"
      ],
      "text/plain": [
       "   PlayerHand        DealerHand  Winner Result Doubled\n",
       "0     [8, 10]       [10, 6, 10]  Player      1   False\n",
       "1  [5, 10, 4]        [10, 6, 5]  Dealer     -1   False\n",
       "2   [9, 3, 8]     [1, 2, 10, 6]  Player      1   False\n",
       "3    [10, 11]            [3, 4]  Player    1.5   False\n",
       "4      [9, 6]        [5, 2, 10]  Dealer     -1   False\n",
       "5    [10, 11]           [4, 10]  Player    1.5   False\n",
       "6     [8, 10]     [4, 3, 8, 10]  Player      1   False\n",
       "7    [10, 10]          [10, 10]    Push      0   False\n",
       "8     [8, 10]  [1, 3, 10, 2, 3]  Dealer     -1   False\n",
       "9     [9, 10]        [10, 2, 9]  Dealer     -1   False"
      ]
     },
     "execution_count": 226,
     "metadata": {},
     "output_type": "execute_result"
    }
   ],
   "source": [
    "results.head(10)"
   ]
  },
  {
   "cell_type": "code",
   "execution_count": 227,
   "metadata": {},
   "outputs": [
    {
     "data": {
      "text/plain": [
       "Player    0.48\n",
       "Dealer    0.48\n",
       "Push      0.04\n",
       "Name: Winner, dtype: float64"
      ]
     },
     "execution_count": 227,
     "metadata": {},
     "output_type": "execute_result"
    }
   ],
   "source": [
    "results = startGame(100, 'Builder')\n",
    "#results['Result'].sum() --- returns the total\n",
    "results.Winner.value_counts(normalize=True)"
   ]
  },
  {
   "cell_type": "code",
   "execution_count": 273,
   "metadata": {},
   "outputs": [
    {
     "data": {
      "text/plain": [
       "6.5"
      ]
     },
     "execution_count": 273,
     "metadata": {},
     "output_type": "execute_result"
    }
   ],
   "source": [
    "results = startGame(100, 'Builder')\n",
    "results['Result'].sum()"
   ]
  },
  {
   "cell_type": "code",
   "execution_count": 240,
   "metadata": {},
   "outputs": [],
   "source": [
    "# compares the builder strategy to the expert strategy by running 'numGames' simulations, 'numComps' times\n",
    "def compareStrats(numComps, numGames) :\n",
    "    betterStrat = pd.DataFrame(columns = ['BetterStrat', 'OursPositive?', 'ExpertPositive?', 'Us - Expert'])\n",
    "    for i in range(numComps) :\n",
    "        winner = 'Error'\n",
    "        ourResult = startGame(numGames, 'Builder')\n",
    "        ourNormal = ourResult.Result.sum()\n",
    "        expResult = startGame(numGames, 'Expert')\n",
    "        expNormal = expResult.Result.sum()\n",
    "        ourDif = ourNormal\n",
    "        expDif = expNormal\n",
    "        if ourDif > expDif :\n",
    "            winner = 'Ours'\n",
    "        elif ourDif == expDif :\n",
    "            winner = 'Push'\n",
    "        elif ourDif < expDif :\n",
    "            winner = 'Expert'\n",
    "        else :\n",
    "            winner = 'Error'\n",
    "        betterStrat = betterStrat.append({'BetterStrat' : winner, 'OursPositive?' : ourDif > 0, 'ExpertPositive?' : expDif > 0, 'Us - Expert' : float(format(ourDif - expDif, '.4f'))}, ignore_index = True)\n",
    "    return betterStrat"
   ]
  },
  {
   "cell_type": "code",
   "execution_count": 279,
   "metadata": {},
   "outputs": [
    {
     "data": {
      "text/html": [
       "<div>\n",
       "<style scoped>\n",
       "    .dataframe tbody tr th:only-of-type {\n",
       "        vertical-align: middle;\n",
       "    }\n",
       "\n",
       "    .dataframe tbody tr th {\n",
       "        vertical-align: top;\n",
       "    }\n",
       "\n",
       "    .dataframe thead th {\n",
       "        text-align: right;\n",
       "    }\n",
       "</style>\n",
       "<table border=\"1\" class=\"dataframe\">\n",
       "  <thead>\n",
       "    <tr style=\"text-align: right;\">\n",
       "      <th></th>\n",
       "      <th>BetterStrat</th>\n",
       "      <th>OursPositive?</th>\n",
       "      <th>ExpertPositive?</th>\n",
       "      <th>Us - Expert</th>\n",
       "    </tr>\n",
       "  </thead>\n",
       "  <tbody>\n",
       "    <tr>\n",
       "      <th>0</th>\n",
       "      <td>Ours</td>\n",
       "      <td>True</td>\n",
       "      <td>False</td>\n",
       "      <td>13.5</td>\n",
       "    </tr>\n",
       "    <tr>\n",
       "      <th>1</th>\n",
       "      <td>Ours</td>\n",
       "      <td>False</td>\n",
       "      <td>False</td>\n",
       "      <td>19.0</td>\n",
       "    </tr>\n",
       "    <tr>\n",
       "      <th>2</th>\n",
       "      <td>Expert</td>\n",
       "      <td>False</td>\n",
       "      <td>False</td>\n",
       "      <td>-2.5</td>\n",
       "    </tr>\n",
       "    <tr>\n",
       "      <th>3</th>\n",
       "      <td>Ours</td>\n",
       "      <td>False</td>\n",
       "      <td>False</td>\n",
       "      <td>12.0</td>\n",
       "    </tr>\n",
       "    <tr>\n",
       "      <th>4</th>\n",
       "      <td>Ours</td>\n",
       "      <td>True</td>\n",
       "      <td>True</td>\n",
       "      <td>8.0</td>\n",
       "    </tr>\n",
       "    <tr>\n",
       "      <th>5</th>\n",
       "      <td>Expert</td>\n",
       "      <td>False</td>\n",
       "      <td>False</td>\n",
       "      <td>-5.0</td>\n",
       "    </tr>\n",
       "    <tr>\n",
       "      <th>6</th>\n",
       "      <td>Expert</td>\n",
       "      <td>True</td>\n",
       "      <td>True</td>\n",
       "      <td>-5.0</td>\n",
       "    </tr>\n",
       "    <tr>\n",
       "      <th>7</th>\n",
       "      <td>Ours</td>\n",
       "      <td>True</td>\n",
       "      <td>True</td>\n",
       "      <td>3.5</td>\n",
       "    </tr>\n",
       "    <tr>\n",
       "      <th>8</th>\n",
       "      <td>Expert</td>\n",
       "      <td>False</td>\n",
       "      <td>False</td>\n",
       "      <td>-5.0</td>\n",
       "    </tr>\n",
       "    <tr>\n",
       "      <th>9</th>\n",
       "      <td>Expert</td>\n",
       "      <td>True</td>\n",
       "      <td>True</td>\n",
       "      <td>-12.0</td>\n",
       "    </tr>\n",
       "  </tbody>\n",
       "</table>\n",
       "</div>"
      ],
      "text/plain": [
       "  BetterStrat OursPositive? ExpertPositive?  Us - Expert\n",
       "0        Ours          True           False         13.5\n",
       "1        Ours         False           False         19.0\n",
       "2      Expert         False           False         -2.5\n",
       "3        Ours         False           False         12.0\n",
       "4        Ours          True            True          8.0\n",
       "5      Expert         False           False         -5.0\n",
       "6      Expert          True            True         -5.0\n",
       "7        Ours          True            True          3.5\n",
       "8      Expert         False           False         -5.0\n",
       "9      Expert          True            True        -12.0"
      ]
     },
     "execution_count": 279,
     "metadata": {},
     "output_type": "execute_result"
    }
   ],
   "source": [
    "# shows how each simulation played out\n",
    "answers = compareStrats(100, 100)\n",
    "answers.head(10)"
   ]
  },
  {
   "cell_type": "code",
   "execution_count": 280,
   "metadata": {},
   "outputs": [
    {
     "data": {
      "text/plain": [
       "Ours      0.58\n",
       "Expert    0.42\n",
       "Name: BetterStrat, dtype: float64"
      ]
     },
     "execution_count": 280,
     "metadata": {},
     "output_type": "execute_result"
    }
   ],
   "source": [
    "# Distribution of which strategy is best\n",
    "answers.BetterStrat.value_counts(normalize=True)"
   ]
  },
  {
   "cell_type": "code",
   "execution_count": 281,
   "metadata": {},
   "outputs": [
    {
     "data": {
      "text/plain": [
       "2.465"
      ]
     },
     "execution_count": 281,
     "metadata": {},
     "output_type": "execute_result"
    }
   ],
   "source": [
    "# average number of more money we win compared to the expert\n",
    "# positive - we won more money than the experts did\n",
    "# negative - expert won more money than we did \n",
    "answers['Us - Expert'].mean()"
   ]
  },
  {
   "cell_type": "code",
   "execution_count": 282,
   "metadata": {},
   "outputs": [
    {
     "data": {
      "text/plain": [
       "10"
      ]
     },
     "execution_count": 282,
     "metadata": {},
     "output_type": "execute_result"
    }
   ],
   "source": [
    "# Of all simulations (representing a night at the casino), how many more nights did we walk away with money than\n",
    "#  the experts would have\n",
    "# In order to walk away with money, the number of hands won compared to the dealer must be positive\n",
    "answers['OursPositive?'].value_counts()[True] - answers['ExpertPositive?'].value_counts()[True]"
   ]
  },
  {
   "cell_type": "code",
   "execution_count": 283,
   "metadata": {},
   "outputs": [
    {
     "data": {
      "text/plain": [
       "0.49"
      ]
     },
     "execution_count": 283,
     "metadata": {},
     "output_type": "execute_result"
    }
   ],
   "source": [
    "# How likely are we to walk away with money using our strategy\n",
    "answers['OursPositive?'].value_counts()[True] / len(answers['OursPositive?'])"
   ]
  },
  {
   "cell_type": "code",
   "execution_count": null,
   "metadata": {},
   "outputs": [],
   "source": []
  },
  {
   "cell_type": "code",
   "execution_count": null,
   "metadata": {},
   "outputs": [],
   "source": []
  },
  {
   "cell_type": "code",
   "execution_count": 251,
   "metadata": {},
   "outputs": [
    {
     "ename": "KeyboardInterrupt",
     "evalue": "",
     "output_type": "error",
     "traceback": [
      "\u001b[0;31m---------------------------------------------------------------------------\u001b[0m",
      "\u001b[0;31mKeyboardInterrupt\u001b[0m                         Traceback (most recent call last)",
      "\u001b[0;32m<ipython-input-251-c497bfeba530>\u001b[0m in \u001b[0;36m<module>\u001b[0;34m\u001b[0m\n\u001b[0;32m----> 1\u001b[0;31m \u001b[0mdifferences\u001b[0m \u001b[0;34m=\u001b[0m \u001b[0mpd\u001b[0m\u001b[0;34m.\u001b[0m\u001b[0mDataFrame\u001b[0m\u001b[0;34m(\u001b[0m\u001b[0;34m[\u001b[0m\u001b[0mstartGame\u001b[0m\u001b[0;34m(\u001b[0m\u001b[0;36m84\u001b[0m\u001b[0;34m,\u001b[0m \u001b[0;34m'Builder'\u001b[0m\u001b[0;34m)\u001b[0m\u001b[0;34m.\u001b[0m\u001b[0mWinner\u001b[0m\u001b[0;34m.\u001b[0m\u001b[0mvalue_counts\u001b[0m\u001b[0;34m(\u001b[0m\u001b[0mnormalize\u001b[0m\u001b[0;34m=\u001b[0m\u001b[0;32mTrue\u001b[0m\u001b[0;34m)\u001b[0m \u001b[0;32mfor\u001b[0m \u001b[0mi\u001b[0m \u001b[0;32min\u001b[0m \u001b[0mrange\u001b[0m\u001b[0;34m(\u001b[0m\u001b[0;36m1000\u001b[0m\u001b[0;34m)\u001b[0m\u001b[0;34m]\u001b[0m\u001b[0;34m)\u001b[0m\u001b[0;34m\u001b[0m\u001b[0;34m\u001b[0m\u001b[0m\n\u001b[0m\u001b[1;32m      2\u001b[0m \u001b[0mdifferences\u001b[0m\u001b[0;34m[\u001b[0m\u001b[0;34m'Difference'\u001b[0m\u001b[0;34m]\u001b[0m \u001b[0;34m=\u001b[0m \u001b[0mdifferences\u001b[0m\u001b[0;34m[\u001b[0m\u001b[0;34m'Player'\u001b[0m\u001b[0;34m]\u001b[0m \u001b[0;34m-\u001b[0m \u001b[0mdifferences\u001b[0m\u001b[0;34m[\u001b[0m\u001b[0;34m'Dealer'\u001b[0m\u001b[0;34m]\u001b[0m\u001b[0;34m\u001b[0m\u001b[0;34m\u001b[0m\u001b[0m\n\u001b[1;32m      3\u001b[0m \u001b[0mgt0\u001b[0m \u001b[0;34m=\u001b[0m \u001b[0mdifferences\u001b[0m\u001b[0;34m.\u001b[0m\u001b[0mloc\u001b[0m\u001b[0;34m[\u001b[0m\u001b[0mdifferences\u001b[0m\u001b[0;34m[\u001b[0m\u001b[0;34m'Difference'\u001b[0m\u001b[0;34m]\u001b[0m \u001b[0;34m>\u001b[0m \u001b[0;36m0\u001b[0m\u001b[0;34m]\u001b[0m\u001b[0;34m\u001b[0m\u001b[0;34m\u001b[0m\u001b[0m\n\u001b[1;32m      4\u001b[0m \u001b[0me0\u001b[0m \u001b[0;34m=\u001b[0m \u001b[0mdifferences\u001b[0m\u001b[0;34m.\u001b[0m\u001b[0mloc\u001b[0m\u001b[0;34m[\u001b[0m\u001b[0mdifferences\u001b[0m\u001b[0;34m[\u001b[0m\u001b[0;34m'Difference'\u001b[0m\u001b[0;34m]\u001b[0m \u001b[0;34m==\u001b[0m \u001b[0;36m0\u001b[0m\u001b[0;34m]\u001b[0m\u001b[0;34m\u001b[0m\u001b[0;34m\u001b[0m\u001b[0m\n\u001b[1;32m      5\u001b[0m \u001b[0mpercent\u001b[0m \u001b[0;34m=\u001b[0m \u001b[0mlen\u001b[0m\u001b[0;34m(\u001b[0m\u001b[0mgt0\u001b[0m\u001b[0;34m)\u001b[0m \u001b[0;34m/\u001b[0m \u001b[0;34m(\u001b[0m\u001b[0mlen\u001b[0m\u001b[0;34m(\u001b[0m\u001b[0mdifferences\u001b[0m\u001b[0;34m)\u001b[0m \u001b[0;34m-\u001b[0m \u001b[0mlen\u001b[0m\u001b[0;34m(\u001b[0m\u001b[0me0\u001b[0m\u001b[0;34m)\u001b[0m\u001b[0;34m)\u001b[0m\u001b[0;34m\u001b[0m\u001b[0;34m\u001b[0m\u001b[0m\n",
      "\u001b[0;32m<ipython-input-251-c497bfeba530>\u001b[0m in \u001b[0;36m<listcomp>\u001b[0;34m(.0)\u001b[0m\n\u001b[0;32m----> 1\u001b[0;31m \u001b[0mdifferences\u001b[0m \u001b[0;34m=\u001b[0m \u001b[0mpd\u001b[0m\u001b[0;34m.\u001b[0m\u001b[0mDataFrame\u001b[0m\u001b[0;34m(\u001b[0m\u001b[0;34m[\u001b[0m\u001b[0mstartGame\u001b[0m\u001b[0;34m(\u001b[0m\u001b[0;36m84\u001b[0m\u001b[0;34m,\u001b[0m \u001b[0;34m'Builder'\u001b[0m\u001b[0;34m)\u001b[0m\u001b[0;34m.\u001b[0m\u001b[0mWinner\u001b[0m\u001b[0;34m.\u001b[0m\u001b[0mvalue_counts\u001b[0m\u001b[0;34m(\u001b[0m\u001b[0mnormalize\u001b[0m\u001b[0;34m=\u001b[0m\u001b[0;32mTrue\u001b[0m\u001b[0;34m)\u001b[0m \u001b[0;32mfor\u001b[0m \u001b[0mi\u001b[0m \u001b[0;32min\u001b[0m \u001b[0mrange\u001b[0m\u001b[0;34m(\u001b[0m\u001b[0;36m1000\u001b[0m\u001b[0;34m)\u001b[0m\u001b[0;34m]\u001b[0m\u001b[0;34m)\u001b[0m\u001b[0;34m\u001b[0m\u001b[0;34m\u001b[0m\u001b[0m\n\u001b[0m\u001b[1;32m      2\u001b[0m \u001b[0mdifferences\u001b[0m\u001b[0;34m[\u001b[0m\u001b[0;34m'Difference'\u001b[0m\u001b[0;34m]\u001b[0m \u001b[0;34m=\u001b[0m \u001b[0mdifferences\u001b[0m\u001b[0;34m[\u001b[0m\u001b[0;34m'Player'\u001b[0m\u001b[0;34m]\u001b[0m \u001b[0;34m-\u001b[0m \u001b[0mdifferences\u001b[0m\u001b[0;34m[\u001b[0m\u001b[0;34m'Dealer'\u001b[0m\u001b[0;34m]\u001b[0m\u001b[0;34m\u001b[0m\u001b[0;34m\u001b[0m\u001b[0m\n\u001b[1;32m      3\u001b[0m \u001b[0mgt0\u001b[0m \u001b[0;34m=\u001b[0m \u001b[0mdifferences\u001b[0m\u001b[0;34m.\u001b[0m\u001b[0mloc\u001b[0m\u001b[0;34m[\u001b[0m\u001b[0mdifferences\u001b[0m\u001b[0;34m[\u001b[0m\u001b[0;34m'Difference'\u001b[0m\u001b[0;34m]\u001b[0m \u001b[0;34m>\u001b[0m \u001b[0;36m0\u001b[0m\u001b[0;34m]\u001b[0m\u001b[0;34m\u001b[0m\u001b[0;34m\u001b[0m\u001b[0m\n\u001b[1;32m      4\u001b[0m \u001b[0me0\u001b[0m \u001b[0;34m=\u001b[0m \u001b[0mdifferences\u001b[0m\u001b[0;34m.\u001b[0m\u001b[0mloc\u001b[0m\u001b[0;34m[\u001b[0m\u001b[0mdifferences\u001b[0m\u001b[0;34m[\u001b[0m\u001b[0;34m'Difference'\u001b[0m\u001b[0;34m]\u001b[0m \u001b[0;34m==\u001b[0m \u001b[0;36m0\u001b[0m\u001b[0;34m]\u001b[0m\u001b[0;34m\u001b[0m\u001b[0;34m\u001b[0m\u001b[0m\n\u001b[1;32m      5\u001b[0m \u001b[0mpercent\u001b[0m \u001b[0;34m=\u001b[0m \u001b[0mlen\u001b[0m\u001b[0;34m(\u001b[0m\u001b[0mgt0\u001b[0m\u001b[0;34m)\u001b[0m \u001b[0;34m/\u001b[0m \u001b[0;34m(\u001b[0m\u001b[0mlen\u001b[0m\u001b[0;34m(\u001b[0m\u001b[0mdifferences\u001b[0m\u001b[0;34m)\u001b[0m \u001b[0;34m-\u001b[0m \u001b[0mlen\u001b[0m\u001b[0;34m(\u001b[0m\u001b[0me0\u001b[0m\u001b[0;34m)\u001b[0m\u001b[0;34m)\u001b[0m\u001b[0;34m\u001b[0m\u001b[0;34m\u001b[0m\u001b[0m\n",
      "\u001b[0;32m<ipython-input-56-6c74522b86a3>\u001b[0m in \u001b[0;36mstartGame\u001b[0;34m(n, playerStrat)\u001b[0m\n\u001b[1;32m     39\u001b[0m             \u001b[0mresult\u001b[0m \u001b[0;34m=\u001b[0m \u001b[0;36m1.5\u001b[0m\u001b[0;34m\u001b[0m\u001b[0;34m\u001b[0m\u001b[0m\n\u001b[1;32m     40\u001b[0m         results_df = results_df.append({'PlayerHand' : player, 'DealerHand' : dealer, 'Winner' : winner, 'Result' : result, 'Doubled' : doubleDown != 1}, \n\u001b[0;32m---> 41\u001b[0;31m                                        ignore_index = True)\n\u001b[0m\u001b[1;32m     42\u001b[0m     \u001b[0;32mreturn\u001b[0m \u001b[0mresults_df\u001b[0m\u001b[0;34m\u001b[0m\u001b[0;34m\u001b[0m\u001b[0m\n",
      "\u001b[0;32m~/anaconda3/lib/python3.7/site-packages/pandas/core/frame.py\u001b[0m in \u001b[0;36mappend\u001b[0;34m(self, other, ignore_index, verify_integrity, sort)\u001b[0m\n\u001b[1;32m   6675\u001b[0m                               \u001b[0mindex\u001b[0m\u001b[0;34m=\u001b[0m\u001b[0mindex\u001b[0m\u001b[0;34m,\u001b[0m\u001b[0;34m\u001b[0m\u001b[0;34m\u001b[0m\u001b[0m\n\u001b[1;32m   6676\u001b[0m                               columns=combined_columns)\n\u001b[0;32m-> 6677\u001b[0;31m             \u001b[0mother\u001b[0m \u001b[0;34m=\u001b[0m \u001b[0mother\u001b[0m\u001b[0;34m.\u001b[0m\u001b[0m_convert\u001b[0m\u001b[0;34m(\u001b[0m\u001b[0mdatetime\u001b[0m\u001b[0;34m=\u001b[0m\u001b[0;32mTrue\u001b[0m\u001b[0;34m,\u001b[0m \u001b[0mtimedelta\u001b[0m\u001b[0;34m=\u001b[0m\u001b[0;32mTrue\u001b[0m\u001b[0;34m)\u001b[0m\u001b[0;34m\u001b[0m\u001b[0;34m\u001b[0m\u001b[0m\n\u001b[0m\u001b[1;32m   6678\u001b[0m             \u001b[0;32mif\u001b[0m \u001b[0;32mnot\u001b[0m \u001b[0mself\u001b[0m\u001b[0;34m.\u001b[0m\u001b[0mcolumns\u001b[0m\u001b[0;34m.\u001b[0m\u001b[0mequals\u001b[0m\u001b[0;34m(\u001b[0m\u001b[0mcombined_columns\u001b[0m\u001b[0;34m)\u001b[0m\u001b[0;34m:\u001b[0m\u001b[0;34m\u001b[0m\u001b[0;34m\u001b[0m\u001b[0m\n\u001b[1;32m   6679\u001b[0m                 \u001b[0mself\u001b[0m \u001b[0;34m=\u001b[0m \u001b[0mself\u001b[0m\u001b[0;34m.\u001b[0m\u001b[0mreindex\u001b[0m\u001b[0;34m(\u001b[0m\u001b[0mcolumns\u001b[0m\u001b[0;34m=\u001b[0m\u001b[0mcombined_columns\u001b[0m\u001b[0;34m)\u001b[0m\u001b[0;34m\u001b[0m\u001b[0;34m\u001b[0m\u001b[0m\n",
      "\u001b[0;32m~/anaconda3/lib/python3.7/site-packages/pandas/core/generic.py\u001b[0m in \u001b[0;36m_convert\u001b[0;34m(self, datetime, numeric, timedelta, coerce, copy)\u001b[0m\n\u001b[1;32m   5848\u001b[0m             self._data.convert(datetime=datetime, numeric=numeric,\n\u001b[1;32m   5849\u001b[0m                                \u001b[0mtimedelta\u001b[0m\u001b[0;34m=\u001b[0m\u001b[0mtimedelta\u001b[0m\u001b[0;34m,\u001b[0m \u001b[0mcoerce\u001b[0m\u001b[0;34m=\u001b[0m\u001b[0mcoerce\u001b[0m\u001b[0;34m,\u001b[0m\u001b[0;34m\u001b[0m\u001b[0;34m\u001b[0m\u001b[0m\n\u001b[0;32m-> 5850\u001b[0;31m                                copy=copy)).__finalize__(self)\n\u001b[0m\u001b[1;32m   5851\u001b[0m \u001b[0;34m\u001b[0m\u001b[0m\n\u001b[1;32m   5852\u001b[0m     def convert_objects(self, convert_dates=True, convert_numeric=False,\n",
      "\u001b[0;32m~/anaconda3/lib/python3.7/site-packages/pandas/core/internals/managers.py\u001b[0m in \u001b[0;36mconvert\u001b[0;34m(self, **kwargs)\u001b[0m\n\u001b[1;32m    532\u001b[0m \u001b[0;34m\u001b[0m\u001b[0m\n\u001b[1;32m    533\u001b[0m     \u001b[0;32mdef\u001b[0m \u001b[0mconvert\u001b[0m\u001b[0;34m(\u001b[0m\u001b[0mself\u001b[0m\u001b[0;34m,\u001b[0m \u001b[0;34m**\u001b[0m\u001b[0mkwargs\u001b[0m\u001b[0;34m)\u001b[0m\u001b[0;34m:\u001b[0m\u001b[0;34m\u001b[0m\u001b[0;34m\u001b[0m\u001b[0m\n\u001b[0;32m--> 534\u001b[0;31m         \u001b[0;32mreturn\u001b[0m \u001b[0mself\u001b[0m\u001b[0;34m.\u001b[0m\u001b[0mapply\u001b[0m\u001b[0;34m(\u001b[0m\u001b[0;34m'convert'\u001b[0m\u001b[0;34m,\u001b[0m \u001b[0;34m**\u001b[0m\u001b[0mkwargs\u001b[0m\u001b[0;34m)\u001b[0m\u001b[0;34m\u001b[0m\u001b[0;34m\u001b[0m\u001b[0m\n\u001b[0m\u001b[1;32m    535\u001b[0m \u001b[0;34m\u001b[0m\u001b[0m\n\u001b[1;32m    536\u001b[0m     \u001b[0;32mdef\u001b[0m \u001b[0mreplace\u001b[0m\u001b[0;34m(\u001b[0m\u001b[0mself\u001b[0m\u001b[0;34m,\u001b[0m \u001b[0;34m**\u001b[0m\u001b[0mkwargs\u001b[0m\u001b[0;34m)\u001b[0m\u001b[0;34m:\u001b[0m\u001b[0;34m\u001b[0m\u001b[0;34m\u001b[0m\u001b[0m\n",
      "\u001b[0;32m~/anaconda3/lib/python3.7/site-packages/pandas/core/internals/managers.py\u001b[0m in \u001b[0;36mapply\u001b[0;34m(self, f, axes, filter, do_integrity_check, consolidate, **kwargs)\u001b[0m\n\u001b[1;32m    400\u001b[0m         bm = self.__class__(result_blocks, axes or self.axes,\n\u001b[1;32m    401\u001b[0m                             do_integrity_check=do_integrity_check)\n\u001b[0;32m--> 402\u001b[0;31m         \u001b[0mbm\u001b[0m\u001b[0;34m.\u001b[0m\u001b[0m_consolidate_inplace\u001b[0m\u001b[0;34m(\u001b[0m\u001b[0;34m)\u001b[0m\u001b[0;34m\u001b[0m\u001b[0;34m\u001b[0m\u001b[0m\n\u001b[0m\u001b[1;32m    403\u001b[0m         \u001b[0;32mreturn\u001b[0m \u001b[0mbm\u001b[0m\u001b[0;34m\u001b[0m\u001b[0;34m\u001b[0m\u001b[0m\n\u001b[1;32m    404\u001b[0m \u001b[0;34m\u001b[0m\u001b[0m\n",
      "\u001b[0;32m~/anaconda3/lib/python3.7/site-packages/pandas/core/internals/managers.py\u001b[0m in \u001b[0;36m_consolidate_inplace\u001b[0;34m(self)\u001b[0m\n\u001b[1;32m    927\u001b[0m     \u001b[0;32mdef\u001b[0m \u001b[0m_consolidate_inplace\u001b[0m\u001b[0;34m(\u001b[0m\u001b[0mself\u001b[0m\u001b[0;34m)\u001b[0m\u001b[0;34m:\u001b[0m\u001b[0;34m\u001b[0m\u001b[0;34m\u001b[0m\u001b[0m\n\u001b[1;32m    928\u001b[0m         \u001b[0;32mif\u001b[0m \u001b[0;32mnot\u001b[0m \u001b[0mself\u001b[0m\u001b[0;34m.\u001b[0m\u001b[0mis_consolidated\u001b[0m\u001b[0;34m(\u001b[0m\u001b[0;34m)\u001b[0m\u001b[0;34m:\u001b[0m\u001b[0;34m\u001b[0m\u001b[0;34m\u001b[0m\u001b[0m\n\u001b[0;32m--> 929\u001b[0;31m             \u001b[0mself\u001b[0m\u001b[0;34m.\u001b[0m\u001b[0mblocks\u001b[0m \u001b[0;34m=\u001b[0m \u001b[0mtuple\u001b[0m\u001b[0;34m(\u001b[0m\u001b[0m_consolidate\u001b[0m\u001b[0;34m(\u001b[0m\u001b[0mself\u001b[0m\u001b[0;34m.\u001b[0m\u001b[0mblocks\u001b[0m\u001b[0;34m)\u001b[0m\u001b[0;34m)\u001b[0m\u001b[0;34m\u001b[0m\u001b[0;34m\u001b[0m\u001b[0m\n\u001b[0m\u001b[1;32m    930\u001b[0m             \u001b[0mself\u001b[0m\u001b[0;34m.\u001b[0m\u001b[0m_is_consolidated\u001b[0m \u001b[0;34m=\u001b[0m \u001b[0;32mTrue\u001b[0m\u001b[0;34m\u001b[0m\u001b[0;34m\u001b[0m\u001b[0m\n\u001b[1;32m    931\u001b[0m             \u001b[0mself\u001b[0m\u001b[0;34m.\u001b[0m\u001b[0m_known_consolidated\u001b[0m \u001b[0;34m=\u001b[0m \u001b[0;32mTrue\u001b[0m\u001b[0;34m\u001b[0m\u001b[0;34m\u001b[0m\u001b[0m\n",
      "\u001b[0;32m~/anaconda3/lib/python3.7/site-packages/pandas/core/internals/managers.py\u001b[0m in \u001b[0;36m_consolidate\u001b[0;34m(blocks)\u001b[0m\n\u001b[1;32m   1892\u001b[0m     \u001b[0;31m# sort by _can_consolidate, dtype\u001b[0m\u001b[0;34m\u001b[0m\u001b[0;34m\u001b[0m\u001b[0;34m\u001b[0m\u001b[0m\n\u001b[1;32m   1893\u001b[0m     \u001b[0mgkey\u001b[0m \u001b[0;34m=\u001b[0m \u001b[0;32mlambda\u001b[0m \u001b[0mx\u001b[0m\u001b[0;34m:\u001b[0m \u001b[0mx\u001b[0m\u001b[0;34m.\u001b[0m\u001b[0m_consolidate_key\u001b[0m\u001b[0;34m\u001b[0m\u001b[0;34m\u001b[0m\u001b[0m\n\u001b[0;32m-> 1894\u001b[0;31m     \u001b[0mgrouper\u001b[0m \u001b[0;34m=\u001b[0m \u001b[0mitertools\u001b[0m\u001b[0;34m.\u001b[0m\u001b[0mgroupby\u001b[0m\u001b[0;34m(\u001b[0m\u001b[0msorted\u001b[0m\u001b[0;34m(\u001b[0m\u001b[0mblocks\u001b[0m\u001b[0;34m,\u001b[0m \u001b[0mkey\u001b[0m\u001b[0;34m=\u001b[0m\u001b[0mgkey\u001b[0m\u001b[0;34m)\u001b[0m\u001b[0;34m,\u001b[0m \u001b[0mgkey\u001b[0m\u001b[0;34m)\u001b[0m\u001b[0;34m\u001b[0m\u001b[0;34m\u001b[0m\u001b[0m\n\u001b[0m\u001b[1;32m   1895\u001b[0m \u001b[0;34m\u001b[0m\u001b[0m\n\u001b[1;32m   1896\u001b[0m     \u001b[0mnew_blocks\u001b[0m \u001b[0;34m=\u001b[0m \u001b[0;34m[\u001b[0m\u001b[0;34m]\u001b[0m\u001b[0;34m\u001b[0m\u001b[0;34m\u001b[0m\u001b[0m\n",
      "\u001b[0;32m~/anaconda3/lib/python3.7/site-packages/pandas/core/internals/managers.py\u001b[0m in \u001b[0;36m<lambda>\u001b[0;34m(x)\u001b[0m\n\u001b[1;32m   1891\u001b[0m \u001b[0;34m\u001b[0m\u001b[0m\n\u001b[1;32m   1892\u001b[0m     \u001b[0;31m# sort by _can_consolidate, dtype\u001b[0m\u001b[0;34m\u001b[0m\u001b[0;34m\u001b[0m\u001b[0;34m\u001b[0m\u001b[0m\n\u001b[0;32m-> 1893\u001b[0;31m     \u001b[0mgkey\u001b[0m \u001b[0;34m=\u001b[0m \u001b[0;32mlambda\u001b[0m \u001b[0mx\u001b[0m\u001b[0;34m:\u001b[0m \u001b[0mx\u001b[0m\u001b[0;34m.\u001b[0m\u001b[0m_consolidate_key\u001b[0m\u001b[0;34m\u001b[0m\u001b[0;34m\u001b[0m\u001b[0m\n\u001b[0m\u001b[1;32m   1894\u001b[0m     \u001b[0mgrouper\u001b[0m \u001b[0;34m=\u001b[0m \u001b[0mitertools\u001b[0m\u001b[0;34m.\u001b[0m\u001b[0mgroupby\u001b[0m\u001b[0;34m(\u001b[0m\u001b[0msorted\u001b[0m\u001b[0;34m(\u001b[0m\u001b[0mblocks\u001b[0m\u001b[0;34m,\u001b[0m \u001b[0mkey\u001b[0m\u001b[0;34m=\u001b[0m\u001b[0mgkey\u001b[0m\u001b[0;34m)\u001b[0m\u001b[0;34m,\u001b[0m \u001b[0mgkey\u001b[0m\u001b[0;34m)\u001b[0m\u001b[0;34m\u001b[0m\u001b[0;34m\u001b[0m\u001b[0m\n\u001b[1;32m   1895\u001b[0m \u001b[0;34m\u001b[0m\u001b[0m\n",
      "\u001b[0;32m~/anaconda3/lib/python3.7/site-packages/pandas/core/internals/blocks.py\u001b[0m in \u001b[0;36m_consolidate_key\u001b[0;34m(self)\u001b[0m\n\u001b[1;32m    128\u001b[0m     \u001b[0;34m@\u001b[0m\u001b[0mproperty\u001b[0m\u001b[0;34m\u001b[0m\u001b[0;34m\u001b[0m\u001b[0m\n\u001b[1;32m    129\u001b[0m     \u001b[0;32mdef\u001b[0m \u001b[0m_consolidate_key\u001b[0m\u001b[0;34m(\u001b[0m\u001b[0mself\u001b[0m\u001b[0;34m)\u001b[0m\u001b[0;34m:\u001b[0m\u001b[0;34m\u001b[0m\u001b[0;34m\u001b[0m\u001b[0m\n\u001b[0;32m--> 130\u001b[0;31m         \u001b[0;32mreturn\u001b[0m \u001b[0;34m(\u001b[0m\u001b[0mself\u001b[0m\u001b[0;34m.\u001b[0m\u001b[0m_can_consolidate\u001b[0m\u001b[0;34m,\u001b[0m \u001b[0mself\u001b[0m\u001b[0;34m.\u001b[0m\u001b[0mdtype\u001b[0m\u001b[0;34m.\u001b[0m\u001b[0mname\u001b[0m\u001b[0;34m)\u001b[0m\u001b[0;34m\u001b[0m\u001b[0;34m\u001b[0m\u001b[0m\n\u001b[0m\u001b[1;32m    131\u001b[0m \u001b[0;34m\u001b[0m\u001b[0m\n\u001b[1;32m    132\u001b[0m     \u001b[0;34m@\u001b[0m\u001b[0mproperty\u001b[0m\u001b[0;34m\u001b[0m\u001b[0;34m\u001b[0m\u001b[0m\n",
      "\u001b[0;32m~/anaconda3/lib/python3.7/site-packages/numpy/core/_dtype.py\u001b[0m in \u001b[0;36m_name_get\u001b[0;34m(dtype)\u001b[0m\n\u001b[1;32m    336\u001b[0m \u001b[0;34m\u001b[0m\u001b[0m\n\u001b[1;32m    337\u001b[0m     \u001b[0;31m# append metadata to datetimes\u001b[0m\u001b[0;34m\u001b[0m\u001b[0;34m\u001b[0m\u001b[0;34m\u001b[0m\u001b[0m\n\u001b[0;32m--> 338\u001b[0;31m     \u001b[0;32melif\u001b[0m \u001b[0mdtype\u001b[0m\u001b[0;34m.\u001b[0m\u001b[0mtype\u001b[0m \u001b[0;32min\u001b[0m \u001b[0;34m(\u001b[0m\u001b[0mnp\u001b[0m\u001b[0;34m.\u001b[0m\u001b[0mdatetime64\u001b[0m\u001b[0;34m,\u001b[0m \u001b[0mnp\u001b[0m\u001b[0;34m.\u001b[0m\u001b[0mtimedelta64\u001b[0m\u001b[0;34m)\u001b[0m\u001b[0;34m:\u001b[0m\u001b[0;34m\u001b[0m\u001b[0;34m\u001b[0m\u001b[0m\n\u001b[0m\u001b[1;32m    339\u001b[0m         \u001b[0mname\u001b[0m \u001b[0;34m+=\u001b[0m \u001b[0m_datetime_metadata_str\u001b[0m\u001b[0;34m(\u001b[0m\u001b[0mdtype\u001b[0m\u001b[0;34m)\u001b[0m\u001b[0;34m\u001b[0m\u001b[0;34m\u001b[0m\u001b[0m\n\u001b[1;32m    340\u001b[0m \u001b[0;34m\u001b[0m\u001b[0m\n",
      "\u001b[0;31mKeyboardInterrupt\u001b[0m: "
     ]
    }
   ],
   "source": [
    "differences = pd.DataFrame([startGame(84, 'Builder').Winner.value_counts(normalize=True) for i in range(1000)])\n",
    "differences['Difference'] = differences['Player'] - differences['Dealer']\n",
    "gt0 = differences.loc[differences['Difference'] > 0]\n",
    "e0 = differences.loc[differences['Difference'] == 0]\n",
    "percent = len(gt0) / (len(differences) - len(e0))\n",
    "hist = differences.Difference.hist(histtype='step', bins = 12)\n",
    "percent, hist, differences.Difference.mean()"
   ]
  },
  {
   "cell_type": "code",
   "execution_count": null,
   "metadata": {},
   "outputs": [],
   "source": [
    "differences = pd.DataFrame([startGame(84, 'Expert').Winner.value_counts(normalize=True) for i in range(100)])\n",
    "differences['Difference'] = differences['Player'] - differences['Dealer']\n",
    "hist = differences.Difference.hist(histtype='step', bins = 12)\n",
    "hist"
   ]
  },
  {
   "cell_type": "code",
   "execution_count": 198,
   "metadata": {},
   "outputs": [],
   "source": [
    "# Finds the players chances of winning by either hitting or staying from having the given hand\n",
    "# chances of winning are determined by running 'tests' amount of simulations using the player's hand total and\n",
    "#  the dealer's show card\n",
    "def testChances(total, tests) :\n",
    "    table = pd.DataFrame(columns = {'2', '3', '4', '5', '6', '7', '8', '9', '10', '11'})\n",
    "    options = [2, 3, 4, 5, 6, 7, 8, 9, 10, 11]\n",
    "    option2 = 0\n",
    "    option3 = 0\n",
    "    option4 = 0\n",
    "    option5 = 0\n",
    "    option6 = 0\n",
    "    option7 = 0\n",
    "    option8 = 0\n",
    "    option9 = 0\n",
    "    option10 = 0\n",
    "    option11 = 0\n",
    "    for n in options :\n",
    "        numResults = pd.DataFrame(columns = {'HitWin%: ', 'StayWin%: '})\n",
    "        hitWins = 0\n",
    "        hitPushes = 0\n",
    "        standWins = 0\n",
    "        standPushes = 0\n",
    "        for num in range(tests) :\n",
    "            playerHand = [10, total - 10]\n",
    "            card = dealCard()\n",
    "            if n == 11 :\n",
    "                while card == 10 :\n",
    "                    card = dealCard()\n",
    "            dealerHand = [n, card]\n",
    "            if not (handTotal(dealerHand) == 21) :\n",
    "                playerHand = dealOneCard(playerHand)\n",
    "                playerHand, double = runHandBuildStrat(playerHand, dealerHand)\n",
    "                if didBust(playerHand) == False :\n",
    "                    dealerHand = playDealer(dealerHand)\n",
    "                    if didBust(dealerHand) | (handTotal(playerHand) > handTotal(dealerHand)) :\n",
    "                         hitWins += 1  \n",
    "                    elif handTotal(playerHand) == handTotal(dealerHand) :\n",
    "                         hitPushes += 1\n",
    "        for num in range(tests) :\n",
    "            playerHand = [10, total - 10]\n",
    "            card = dealCard()\n",
    "            if n == 11 :\n",
    "                while card == 10 :\n",
    "                    card = dealCard()\n",
    "            dealerHand = [n, card]\n",
    "            dealerHand = playDealer(dealerHand)\n",
    "            if didBust(dealerHand) | (handTotal(playerHand) > handTotal(dealerHand)) :\n",
    "                standWins += 1  \n",
    "            elif handTotal(playerHand) == handTotal(dealerHand) :\n",
    "                standPushes += 1\n",
    "        ph = hitWins / (tests - hitPushes)\n",
    "        eh = (2 * ph) - 1\n",
    "        ps = standWins / (tests - standPushes)\n",
    "        es = (2 * ps) - 1\n",
    "        numResults = numResults.append({'HitWin%: ' : eh, 'StayWin%: ' : es}, ignore_index = True)\n",
    "        if n == 2:\n",
    "            option2 = numResults\n",
    "        elif n == 3:\n",
    "            option3 = numResults\n",
    "        elif n == 4:\n",
    "            option4 = numResults\n",
    "        elif n == 5:\n",
    "            option5 = numResults\n",
    "        elif n == 6:\n",
    "            option6 = numResults\n",
    "        elif n == 7:\n",
    "            option7 = numResults\n",
    "        elif n == 8:\n",
    "            option8 = numResults\n",
    "        elif n == 9:\n",
    "            option9 = numResults\n",
    "        elif n == 10:\n",
    "            option10 = numResults\n",
    "        elif n == 11:\n",
    "            option11 = numResults\n",
    "    table = table.append({'2' : option2, '3' : option3, '4' : option4, '5' : option5, '6' : option6, '7' : option7, '8' : option8, '9' : option9, '10' : option10, '11' : option11}, ignore_index = True)\n",
    "    table = table[['2', '3', '4', '5', '6', '7', '8', '9', '10', '11']]\n",
    "    return table"
   ]
  },
  {
   "cell_type": "code",
   "execution_count": 153,
   "metadata": {},
   "outputs": [
    {
     "data": {
      "text/html": [
       "<div>\n",
       "<style scoped>\n",
       "    .dataframe tbody tr th:only-of-type {\n",
       "        vertical-align: middle;\n",
       "    }\n",
       "\n",
       "    .dataframe tbody tr th {\n",
       "        vertical-align: top;\n",
       "    }\n",
       "\n",
       "    .dataframe thead th {\n",
       "        text-align: right;\n",
       "    }\n",
       "</style>\n",
       "<table border=\"1\" class=\"dataframe\">\n",
       "  <thead>\n",
       "    <tr style=\"text-align: right;\">\n",
       "      <th></th>\n",
       "      <th>2</th>\n",
       "      <th>3</th>\n",
       "      <th>4</th>\n",
       "      <th>5</th>\n",
       "      <th>6</th>\n",
       "      <th>7</th>\n",
       "      <th>8</th>\n",
       "      <th>9</th>\n",
       "      <th>10</th>\n",
       "      <th>11</th>\n",
       "    </tr>\n",
       "  </thead>\n",
       "  <tbody>\n",
       "    <tr>\n",
       "      <th>0</th>\n",
       "      <td>HitWin%:   StayWin%: \n",
       "0   0.545351     0.35954</td>\n",
       "      <td>HitWin%:   StayWin%: \n",
       "0   0.557214     0.37664</td>\n",
       "      <td>HitWin%:   StayWin%: \n",
       "0   0.567912     0.39576</td>\n",
       "      <td>HitWin%:   StayWin%: \n",
       "0   0.583909     0.41887</td>\n",
       "      <td>HitWin%:   StayWin%: \n",
       "0   0.600743     0.44041</td>\n",
       "      <td>HitWin%:   StayWin%: \n",
       "0    0.59185      0.2623</td>\n",
       "      <td>HitWin%:   StayWin%: \n",
       "0   0.555428     0.24626</td>\n",
       "      <td>HitWin%:   StayWin%: \n",
       "0   0.501214     0.22791</td>\n",
       "      <td>HitWin%:   StayWin%: \n",
       "0   0.422742     0.21076</td>\n",
       "      <td>HitWin%:   StayWin%: \n",
       "0   0.501081     0.28095</td>\n",
       "    </tr>\n",
       "  </tbody>\n",
       "</table>\n",
       "</div>"
      ],
      "text/plain": [
       "                                                   2  \\\n",
       "0     HitWin%:   StayWin%: \n",
       "0   0.545351     0.35954   \n",
       "\n",
       "                                                   3  \\\n",
       "0     HitWin%:   StayWin%: \n",
       "0   0.557214     0.37664   \n",
       "\n",
       "                                                   4  \\\n",
       "0     HitWin%:   StayWin%: \n",
       "0   0.567912     0.39576   \n",
       "\n",
       "                                                   5  \\\n",
       "0     HitWin%:   StayWin%: \n",
       "0   0.583909     0.41887   \n",
       "\n",
       "                                                   6  \\\n",
       "0     HitWin%:   StayWin%: \n",
       "0   0.600743     0.44041   \n",
       "\n",
       "                                                   7  \\\n",
       "0     HitWin%:   StayWin%: \n",
       "0    0.59185      0.2623   \n",
       "\n",
       "                                                   8  \\\n",
       "0     HitWin%:   StayWin%: \n",
       "0   0.555428     0.24626   \n",
       "\n",
       "                                                   9  \\\n",
       "0     HitWin%:   StayWin%: \n",
       "0   0.501214     0.22791   \n",
       "\n",
       "                                                  10  \\\n",
       "0     HitWin%:   StayWin%: \n",
       "0   0.422742     0.21076   \n",
       "\n",
       "                                                  11  \n",
       "0     HitWin%:   StayWin%: \n",
       "0   0.501081     0.28095  "
      ]
     },
     "execution_count": 153,
     "metadata": {},
     "output_type": "execute_result"
    }
   ],
   "source": [
    "testChances(12, 100000)"
   ]
  },
  {
   "cell_type": "code",
   "execution_count": 38,
   "metadata": {},
   "outputs": [
    {
     "data": {
      "text/html": [
       "<div>\n",
       "<style scoped>\n",
       "    .dataframe tbody tr th:only-of-type {\n",
       "        vertical-align: middle;\n",
       "    }\n",
       "\n",
       "    .dataframe tbody tr th {\n",
       "        vertical-align: top;\n",
       "    }\n",
       "\n",
       "    .dataframe thead th {\n",
       "        text-align: right;\n",
       "    }\n",
       "</style>\n",
       "<table border=\"1\" class=\"dataframe\">\n",
       "  <thead>\n",
       "    <tr style=\"text-align: right;\">\n",
       "      <th></th>\n",
       "      <th>2</th>\n",
       "      <th>3</th>\n",
       "      <th>4</th>\n",
       "      <th>5</th>\n",
       "      <th>6</th>\n",
       "      <th>7</th>\n",
       "      <th>8</th>\n",
       "      <th>9</th>\n",
       "      <th>10</th>\n",
       "      <th>11</th>\n",
       "    </tr>\n",
       "  </thead>\n",
       "  <tbody>\n",
       "    <tr>\n",
       "      <th>0</th>\n",
       "      <td>HitWin%:   StayWin%: \n",
       "0   0.364599     0.36018</td>\n",
       "      <td>HitWin%:   StayWin%: \n",
       "0   0.378736     0.37524</td>\n",
       "      <td>HitWin%:   StayWin%: \n",
       "0   0.390566       0.399</td>\n",
       "      <td>HitWin%:   StayWin%: \n",
       "0   0.396758     0.41541</td>\n",
       "      <td>HitWin%:   StayWin%: \n",
       "0   0.409649     0.44287</td>\n",
       "      <td>HitWin%:   StayWin%: \n",
       "0   0.385353     0.26302</td>\n",
       "      <td>HitWin%:   StayWin%: \n",
       "0   0.351725     0.24682</td>\n",
       "      <td>HitWin%:   StayWin%: \n",
       "0   0.315605     0.22972</td>\n",
       "      <td>HitWin%:   StayWin%: \n",
       "0   0.267368     0.21226</td>\n",
       "      <td>HitWin%:   StayWin%: \n",
       "0   0.218541     0.19518</td>\n",
       "    </tr>\n",
       "  </tbody>\n",
       "</table>\n",
       "</div>"
      ],
      "text/plain": [
       "                                                   2  \\\n",
       "0     HitWin%:   StayWin%: \n",
       "0   0.364599     0.36018   \n",
       "\n",
       "                                                   3  \\\n",
       "0     HitWin%:   StayWin%: \n",
       "0   0.378736     0.37524   \n",
       "\n",
       "                                                   4  \\\n",
       "0     HitWin%:   StayWin%: \n",
       "0   0.390566       0.399   \n",
       "\n",
       "                                                   5  \\\n",
       "0     HitWin%:   StayWin%: \n",
       "0   0.396758     0.41541   \n",
       "\n",
       "                                                   6  \\\n",
       "0     HitWin%:   StayWin%: \n",
       "0   0.409649     0.44287   \n",
       "\n",
       "                                                   7  \\\n",
       "0     HitWin%:   StayWin%: \n",
       "0   0.385353     0.26302   \n",
       "\n",
       "                                                   8  \\\n",
       "0     HitWin%:   StayWin%: \n",
       "0   0.351725     0.24682   \n",
       "\n",
       "                                                   9  \\\n",
       "0     HitWin%:   StayWin%: \n",
       "0   0.315605     0.22972   \n",
       "\n",
       "                                                  10  \\\n",
       "0     HitWin%:   StayWin%: \n",
       "0   0.267368     0.21226   \n",
       "\n",
       "                                                  11  \n",
       "0     HitWin%:   StayWin%: \n",
       "0   0.218541     0.19518  "
      ]
     },
     "execution_count": 38,
     "metadata": {},
     "output_type": "execute_result"
    }
   ],
   "source": [
    "# Regardless of the choice, a player is very unlikely to win if dealt a 12\n",
    "testChances(12, 100000)"
   ]
  },
  {
   "cell_type": "code",
   "execution_count": 39,
   "metadata": {},
   "outputs": [
    {
     "data": {
      "text/html": [
       "<div>\n",
       "<style scoped>\n",
       "    .dataframe tbody tr th:only-of-type {\n",
       "        vertical-align: middle;\n",
       "    }\n",
       "\n",
       "    .dataframe tbody tr th {\n",
       "        vertical-align: top;\n",
       "    }\n",
       "\n",
       "    .dataframe thead th {\n",
       "        text-align: right;\n",
       "    }\n",
       "</style>\n",
       "<table border=\"1\" class=\"dataframe\">\n",
       "  <thead>\n",
       "    <tr style=\"text-align: right;\">\n",
       "      <th></th>\n",
       "      <th>2</th>\n",
       "      <th>3</th>\n",
       "      <th>4</th>\n",
       "      <th>5</th>\n",
       "      <th>6</th>\n",
       "      <th>7</th>\n",
       "      <th>8</th>\n",
       "      <th>9</th>\n",
       "      <th>10</th>\n",
       "      <th>11</th>\n",
       "    </tr>\n",
       "  </thead>\n",
       "  <tbody>\n",
       "    <tr>\n",
       "      <th>0</th>\n",
       "      <td>HitWin%:   StayWin%: \n",
       "0   0.180417    0.562998</td>\n",
       "      <td>HitWin%:   StayWin%: \n",
       "0   0.181284    0.581091</td>\n",
       "      <td>HitWin%:   StayWin%: \n",
       "0   0.180998    0.596586</td>\n",
       "      <td>HitWin%:   StayWin%: \n",
       "0   0.183297    0.613008</td>\n",
       "      <td>HitWin%:   StayWin%: \n",
       "0    0.18727    0.627732</td>\n",
       "      <td>HitWin%:   StayWin%: \n",
       "0    0.20079    0.733033</td>\n",
       "      <td>HitWin%:   StayWin%: \n",
       "0   0.197039    0.582852</td>\n",
       "      <td>HitWin%:   StayWin%: \n",
       "0   0.177573    0.395244</td>\n",
       "      <td>HitWin%:   StayWin%: \n",
       "0   0.148673    0.363191</td>\n",
       "      <td>HitWin%:   StayWin%: \n",
       "0   0.120053    0.286443</td>\n",
       "    </tr>\n",
       "  </tbody>\n",
       "</table>\n",
       "</div>"
      ],
      "text/plain": [
       "                                                   2  \\\n",
       "0     HitWin%:   StayWin%: \n",
       "0   0.180417    0.562998   \n",
       "\n",
       "                                                   3  \\\n",
       "0     HitWin%:   StayWin%: \n",
       "0   0.181284    0.581091   \n",
       "\n",
       "                                                   4  \\\n",
       "0     HitWin%:   StayWin%: \n",
       "0   0.180998    0.596586   \n",
       "\n",
       "                                                   5  \\\n",
       "0     HitWin%:   StayWin%: \n",
       "0   0.183297    0.613008   \n",
       "\n",
       "                                                   6  \\\n",
       "0     HitWin%:   StayWin%: \n",
       "0    0.18727    0.627732   \n",
       "\n",
       "                                                   7  \\\n",
       "0     HitWin%:   StayWin%: \n",
       "0    0.20079    0.733033   \n",
       "\n",
       "                                                   8  \\\n",
       "0     HitWin%:   StayWin%: \n",
       "0   0.197039    0.582852   \n",
       "\n",
       "                                                   9  \\\n",
       "0     HitWin%:   StayWin%: \n",
       "0   0.177573    0.395244   \n",
       "\n",
       "                                                  10  \\\n",
       "0     HitWin%:   StayWin%: \n",
       "0   0.148673    0.363191   \n",
       "\n",
       "                                                  11  \n",
       "0     HitWin%:   StayWin%: \n",
       "0   0.120053    0.286443  "
      ]
     },
     "execution_count": 39,
     "metadata": {},
     "output_type": "execute_result"
    }
   ],
   "source": [
    "# No matter what the dealer shows, a player should always stay on 18\n",
    "testChances(18, 100000)"
   ]
  },
  {
   "cell_type": "code",
   "execution_count": 199,
   "metadata": {},
   "outputs": [],
   "source": [
    "# Finds the players chances of winning by either hitting or staying from having the given hand\n",
    "# chances of winning are determined by running 'tests' amount of simulations using the player's hand total and\n",
    "#  the dealer's show card\n",
    "def testChancesDouble(total, tests) :\n",
    "    table = pd.DataFrame(columns = {'2', '3', '4', '5', '6', '7', '8', '9', '10', '11'})\n",
    "    options = [2, 3, 4, 5, 6, 7, 8, 9, 10, 11]\n",
    "    option2 = 0\n",
    "    option3 = 0\n",
    "    option4 = 0\n",
    "    option5 = 0\n",
    "    option6 = 0\n",
    "    option7 = 0\n",
    "    option8 = 0\n",
    "    option9 = 0\n",
    "    option10 = 0\n",
    "    option11 = 0\n",
    "    for n in options :\n",
    "        numResults = pd.DataFrame(columns = {'DubWin%: ', 'Win%: '})\n",
    "        hitWins = 0\n",
    "        hitPushes = 0\n",
    "        standWins = 0\n",
    "        standPushes = 0\n",
    "        for num in range(tests) :\n",
    "            playerHand = [2, total - 2]\n",
    "            card = dealCard()\n",
    "            if n == 11 :\n",
    "                while card == 10 :\n",
    "                    card = dealCard()\n",
    "            dealerHand = [n, card]\n",
    "            if not (handTotal(dealerHand) == 21) :\n",
    "                playerHand = dealOneCard(playerHand)\n",
    "                if didBust(playerHand) == False :\n",
    "                    dealerHand = playDealer(dealerHand)\n",
    "                    if didBust(dealerHand) | (handTotal(playerHand) > handTotal(dealerHand)) :\n",
    "                        hitWins += 1\n",
    "                    elif handTotal(playerHand) == handTotal(dealerHand) :\n",
    "                         hitPushes += 1\n",
    "        ph = hitWins / (tests - hitPushes)\n",
    "        eh = (4 * ph) - 2\n",
    "        numResults = numResults.append({'DubWin%: ' : eh, 'Win%: ': ph}, ignore_index = True)\n",
    "        if n == 2:\n",
    "            option2 = numResults\n",
    "        elif n == 3:\n",
    "            option3 = numResults\n",
    "        elif n == 4:\n",
    "            option4 = numResults\n",
    "        elif n == 5:\n",
    "            option5 = numResults\n",
    "        elif n == 6:\n",
    "            option6 = numResults\n",
    "        elif n == 7:\n",
    "            option7 = numResults\n",
    "        elif n == 8:\n",
    "            option8 = numResults\n",
    "        elif n == 9:\n",
    "            option9 = numResults\n",
    "        elif n == 10:\n",
    "            option10 = numResults\n",
    "        elif n == 11:\n",
    "            option11 = numResults\n",
    "    table = table.append({'2' : option2, '3' : option3, '4' : option4, '5' : option5, '6' : option6, '7' : option7, '8' : option8, '9' : option9, '10' : option10, '11' : option11}, ignore_index = True)\n",
    "    table = table[['2', '3', '4', '5', '6', '7', '8', '9', '10', '11']]\n",
    "    return table"
   ]
  },
  {
   "cell_type": "code",
   "execution_count": 218,
   "metadata": {},
   "outputs": [
    {
     "data": {
      "text/html": [
       "<div>\n",
       "<style scoped>\n",
       "    .dataframe tbody tr th:only-of-type {\n",
       "        vertical-align: middle;\n",
       "    }\n",
       "\n",
       "    .dataframe tbody tr th {\n",
       "        vertical-align: top;\n",
       "    }\n",
       "\n",
       "    .dataframe thead th {\n",
       "        text-align: right;\n",
       "    }\n",
       "</style>\n",
       "<table border=\"1\" class=\"dataframe\">\n",
       "  <thead>\n",
       "    <tr style=\"text-align: right;\">\n",
       "      <th></th>\n",
       "      <th>2</th>\n",
       "      <th>3</th>\n",
       "      <th>4</th>\n",
       "      <th>5</th>\n",
       "      <th>6</th>\n",
       "      <th>7</th>\n",
       "      <th>8</th>\n",
       "      <th>9</th>\n",
       "      <th>10</th>\n",
       "      <th>11</th>\n",
       "    </tr>\n",
       "  </thead>\n",
       "  <tbody>\n",
       "    <tr>\n",
       "      <th>0</th>\n",
       "      <td>Win%:   DubWin%: \n",
       "0  0.44641  -0.214361</td>\n",
       "      <td>Win%:   DubWin%: \n",
       "0  0.460233  -0.159068</td>\n",
       "      <td>Win%:   DubWin%: \n",
       "0  0.482159  -0.071363</td>\n",
       "      <td>Win%:   DubWin%: \n",
       "0  0.501372   0.005489</td>\n",
       "      <td>Win%:   DubWin%: \n",
       "0  0.517332   0.069327</td>\n",
       "      <td>Win%:   DubWin%: \n",
       "0  0.446665  -0.213338</td>\n",
       "      <td>Win%:   DubWin%: \n",
       "0  0.370968  -0.516128</td>\n",
       "      <td>Win%:   DubWin%: \n",
       "0  0.306635  -0.773459</td>\n",
       "      <td>Win%:   DubWin%: \n",
       "0  0.278063   -0.88775</td>\n",
       "      <td>Win%:   DubWin%: \n",
       "0  0.353536  -0.585856</td>\n",
       "    </tr>\n",
       "  </tbody>\n",
       "</table>\n",
       "</div>"
      ],
      "text/plain": [
       "                                             2  \\\n",
       "0      Win%:   DubWin%: \n",
       "0  0.44641  -0.214361   \n",
       "\n",
       "                                               3  \\\n",
       "0       Win%:   DubWin%: \n",
       "0  0.460233  -0.159068   \n",
       "\n",
       "                                               4  \\\n",
       "0       Win%:   DubWin%: \n",
       "0  0.482159  -0.071363   \n",
       "\n",
       "                                               5  \\\n",
       "0       Win%:   DubWin%: \n",
       "0  0.501372   0.005489   \n",
       "\n",
       "                                               6  \\\n",
       "0       Win%:   DubWin%: \n",
       "0  0.517332   0.069327   \n",
       "\n",
       "                                               7  \\\n",
       "0       Win%:   DubWin%: \n",
       "0  0.446665  -0.213338   \n",
       "\n",
       "                                               8  \\\n",
       "0       Win%:   DubWin%: \n",
       "0  0.370968  -0.516128   \n",
       "\n",
       "                                               9  \\\n",
       "0       Win%:   DubWin%: \n",
       "0  0.306635  -0.773459   \n",
       "\n",
       "                                              10  \\\n",
       "0       Win%:   DubWin%: \n",
       "0  0.278063   -0.88775   \n",
       "\n",
       "                                              11  \n",
       "0       Win%:   DubWin%: \n",
       "0  0.353536  -0.585856  "
      ]
     },
     "execution_count": 218,
     "metadata": {},
     "output_type": "execute_result"
    }
   ],
   "source": [
    "testChancesDouble(8, 100000)"
   ]
  },
  {
   "cell_type": "code",
   "execution_count": 219,
   "metadata": {},
   "outputs": [
    {
     "data": {
      "text/html": [
       "<div>\n",
       "<style scoped>\n",
       "    .dataframe tbody tr th:only-of-type {\n",
       "        vertical-align: middle;\n",
       "    }\n",
       "\n",
       "    .dataframe tbody tr th {\n",
       "        vertical-align: top;\n",
       "    }\n",
       "\n",
       "    .dataframe thead th {\n",
       "        text-align: right;\n",
       "    }\n",
       "</style>\n",
       "<table border=\"1\" class=\"dataframe\">\n",
       "  <thead>\n",
       "    <tr style=\"text-align: right;\">\n",
       "      <th></th>\n",
       "      <th>2</th>\n",
       "      <th>3</th>\n",
       "      <th>4</th>\n",
       "      <th>5</th>\n",
       "      <th>6</th>\n",
       "      <th>7</th>\n",
       "      <th>8</th>\n",
       "      <th>9</th>\n",
       "      <th>10</th>\n",
       "      <th>11</th>\n",
       "    </tr>\n",
       "  </thead>\n",
       "  <tbody>\n",
       "    <tr>\n",
       "      <th>0</th>\n",
       "      <td>HitWin%:   StayWin%: \n",
       "0  -0.026739     -0.2832</td>\n",
       "      <td>HitWin%:   StayWin%: \n",
       "0   0.003199    -0.24748</td>\n",
       "      <td>HitWin%:   StayWin%: \n",
       "0    0.02971      -0.197</td>\n",
       "      <td>HitWin%:   StayWin%: \n",
       "0   0.074405    -0.16616</td>\n",
       "      <td>HitWin%:   StayWin%: \n",
       "0   0.110459    -0.11838</td>\n",
       "      <td>HitWin%:   StayWin%: \n",
       "0   0.088998    -0.47442</td>\n",
       "      <td>HitWin%:   StayWin%: \n",
       "0   -0.07048     -0.5133</td>\n",
       "      <td>HitWin%:   StayWin%: \n",
       "0  -0.233133    -0.54452</td>\n",
       "      <td>HitWin%:   StayWin%: \n",
       "0  -0.338546    -0.57544</td>\n",
       "      <td>HitWin%:   StayWin%: \n",
       "0  -0.188473    -0.44082</td>\n",
       "    </tr>\n",
       "  </tbody>\n",
       "</table>\n",
       "</div>"
      ],
      "text/plain": [
       "                                                   2  \\\n",
       "0     HitWin%:   StayWin%: \n",
       "0  -0.026739     -0.2832   \n",
       "\n",
       "                                                   3  \\\n",
       "0     HitWin%:   StayWin%: \n",
       "0   0.003199    -0.24748   \n",
       "\n",
       "                                                   4  \\\n",
       "0     HitWin%:   StayWin%: \n",
       "0    0.02971      -0.197   \n",
       "\n",
       "                                                   5  \\\n",
       "0     HitWin%:   StayWin%: \n",
       "0   0.074405    -0.16616   \n",
       "\n",
       "                                                   6  \\\n",
       "0     HitWin%:   StayWin%: \n",
       "0   0.110459    -0.11838   \n",
       "\n",
       "                                                   7  \\\n",
       "0     HitWin%:   StayWin%: \n",
       "0   0.088998    -0.47442   \n",
       "\n",
       "                                                   8  \\\n",
       "0     HitWin%:   StayWin%: \n",
       "0   -0.07048     -0.5133   \n",
       "\n",
       "                                                   9  \\\n",
       "0     HitWin%:   StayWin%: \n",
       "0  -0.233133    -0.54452   \n",
       "\n",
       "                                                  10  \\\n",
       "0     HitWin%:   StayWin%: \n",
       "0  -0.338546    -0.57544   \n",
       "\n",
       "                                                  11  \n",
       "0     HitWin%:   StayWin%: \n",
       "0  -0.188473    -0.44082  "
      ]
     },
     "execution_count": 219,
     "metadata": {},
     "output_type": "execute_result"
    }
   ],
   "source": [
    "testChances(8, 100000)"
   ]
  },
  {
   "cell_type": "code",
   "execution_count": 40,
   "metadata": {},
   "outputs": [],
   "source": [
    "def createShoe(decks) :\n",
    "    shoe = []\n",
    "    for n in range(decks) :\n",
    "        for num in range(4) :\n",
    "            for number in range(2, 12) :\n",
    "                shoe.append(number)\n",
    "    return shoe"
   ]
  },
  {
   "cell_type": "code",
   "execution_count": 41,
   "metadata": {
    "scrolled": true
   },
   "outputs": [
    {
     "data": {
      "text/plain": [
       "[2,\n",
       " 3,\n",
       " 4,\n",
       " 5,\n",
       " 6,\n",
       " 7,\n",
       " 8,\n",
       " 9,\n",
       " 10,\n",
       " 11,\n",
       " 2,\n",
       " 3,\n",
       " 4,\n",
       " 5,\n",
       " 6,\n",
       " 7,\n",
       " 8,\n",
       " 9,\n",
       " 10,\n",
       " 11,\n",
       " 2,\n",
       " 3,\n",
       " 4,\n",
       " 5,\n",
       " 6,\n",
       " 7,\n",
       " 8,\n",
       " 9,\n",
       " 10,\n",
       " 11,\n",
       " 2,\n",
       " 3,\n",
       " 4,\n",
       " 5,\n",
       " 6,\n",
       " 7,\n",
       " 8,\n",
       " 9,\n",
       " 10,\n",
       " 11,\n",
       " 2,\n",
       " 3,\n",
       " 4,\n",
       " 5,\n",
       " 6,\n",
       " 7,\n",
       " 8,\n",
       " 9,\n",
       " 10,\n",
       " 11,\n",
       " 2,\n",
       " 3,\n",
       " 4,\n",
       " 5,\n",
       " 6,\n",
       " 7,\n",
       " 8,\n",
       " 9,\n",
       " 10,\n",
       " 11,\n",
       " 2,\n",
       " 3,\n",
       " 4,\n",
       " 5,\n",
       " 6,\n",
       " 7,\n",
       " 8,\n",
       " 9,\n",
       " 10,\n",
       " 11,\n",
       " 2,\n",
       " 3,\n",
       " 4,\n",
       " 5,\n",
       " 6,\n",
       " 7,\n",
       " 8,\n",
       " 9,\n",
       " 10,\n",
       " 11]"
      ]
     },
     "execution_count": 41,
     "metadata": {},
     "output_type": "execute_result"
    }
   ],
   "source": [
    "deck = createShoe(2)\n",
    "deck"
   ]
  },
  {
   "cell_type": "code",
   "execution_count": null,
   "metadata": {},
   "outputs": [],
   "source": []
  }
 ],
 "metadata": {
  "kernelspec": {
   "display_name": "Python 3",
   "language": "python",
   "name": "python3"
  },
  "language_info": {
   "codemirror_mode": {
    "name": "ipython",
    "version": 3
   },
   "file_extension": ".py",
   "mimetype": "text/x-python",
   "name": "python",
   "nbconvert_exporter": "python",
   "pygments_lexer": "ipython3",
   "version": "3.7.3"
  }
 },
 "nbformat": 4,
 "nbformat_minor": 4
}
